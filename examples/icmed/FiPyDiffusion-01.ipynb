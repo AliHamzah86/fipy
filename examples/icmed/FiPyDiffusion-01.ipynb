{
 "cells": [
  {
   "cell_type": "markdown",
   "metadata": {},
   "source": [
    "# ICMEd Computational Kinetics Module"
   ]
  },
  {
   "cell_type": "code",
   "execution_count": null,
   "metadata": {},
   "outputs": [],
   "source": [
    "%matplotlib notebook\n",
    "from matplotlib import pyplot as plt"
   ]
  },
  {
   "cell_type": "markdown",
   "metadata": {},
   "source": [
    "## Materials Science Background\n",
    "\n",
    "Diffusion occurs in a wide variety of materials during processing.  For example, diffusion is used to dope semiconductors to fabricate devices.  This process is called diffusion doping.  The example below illustrates how a diode can be fabricated through this process. "
   ]
  },
  {
   "cell_type": "markdown",
   "metadata": {},
   "source": [
    "## Problem 1\n",
    "\n",
    "A $7~\\mathrm{\\mu m}$ thick B-doped (p-type) Si wafer is annealed at $950~\\mathrm{{}^\\circ C}$ while in equilibrium with a gas containing P vapor (donor).  The concentration of B in the wafer is $2\\times 10^{17} / \\mathrm{cm^3}$.  P diffusivity in this system at this condition is $D\\approx 10^{-14}~\\mathrm{cm^2/s}$.  Assume that the concentration of P at the surface in this case is $10^{21}/\\mathrm{cm^3}$.  To fabricate a device with a junction at approximately $1~\\mathrm{\\mu m}$ from the surface, one would like to match the P and B concentrations at a depth of $1~\\mathrm{\\mu m}$.  "
   ]
  },
  {
   "cell_type": "markdown",
   "metadata": {},
   "source": [
    "NOTE: \n",
    " - Distances are in micrometers\n",
    " - Diffusion coefficient DP is in $\\mathrm{\\mu m}^2/s$\n",
    " - Times are in seconds"
   ]
  },
  {
   "cell_type": "code",
   "execution_count": null,
   "metadata": {},
   "outputs": [],
   "source": [
    "DP = 1.0e-6 # Diffusion coefficient (mum^2 / s)\n",
    "cP = 1.0e9  # Surface concentration of phosphorus (mum^-3)\n",
    "cB = 2.0e5  # Bulk concentration of boron (mum^-3)\n",
    "\n",
    "OutputDist = 1.0    # Distance at which we will output concentration (mum)\n",
    "ThickM  = 7.0       # thickness of wafer (mum)"
   ]
  },
  {
   "cell_type": "markdown",
   "metadata": {},
   "source": [
    "### (a)\n",
    "\n",
    "Using the following analytical formula determine how much time it will take for the concentration of P at a distance $x = 1~\\mathrm{\\mu m}$ from the surface to be equal to the concentration of B. \n",
    "\n",
    "$$C(x,t) = C_\\text{surface}\\left[1 - \\mathrm{erf}\\left(\\frac{x}{2\\sqrt{D t}}\\right)\\right]$$\n",
    "\n",
    "Note that the $\\mathrm{erf}$ function can be evaluated using SciPy (you can also consider using the complementary error function, $\\mathrm{erfc}$, which is one minus the error function)."
   ]
  },
  {
   "cell_type": "code",
   "execution_count": null,
   "metadata": {},
   "outputs": [],
   "source": [
    "from scipy.special import erf\n",
    "from numpy import sqrt"
   ]
  },
  {
   "cell_type": "code",
   "execution_count": null,
   "metadata": {},
   "outputs": [],
   "source": [
    "def analyticalConcentration(t, x):\n",
    "    return cP * (1 - erf(x / (2 * sqrt(DP * t))))"
   ]
  },
  {
   "cell_type": "markdown",
   "metadata": {},
   "source": [
    "## graphical solution"
   ]
  },
  {
   "cell_type": "code",
   "execution_count": null,
   "metadata": {},
   "outputs": [],
   "source": [
    "from numpy import linspace"
   ]
  },
  {
   "cell_type": "code",
   "execution_count": null,
   "metadata": {},
   "outputs": [],
   "source": [
    "t = linspace(0, 1e6, 100)"
   ]
  },
  {
   "cell_type": "code",
   "execution_count": null,
   "metadata": {},
   "outputs": [],
   "source": [
    "plt.loglog(t, analyticalConcentration(t, OutputDist))\n",
    "plt.loglog([0., 1e6], [cB, cB])\n",
    "plt.xlabel(\"$t / s$\")\n",
    "plt.ylabel(r\"$C / \\mathrm{cm}^{-3}$\")"
   ]
  },
  {
   "cell_type": "markdown",
   "metadata": {},
   "source": [
    "## numerical solution"
   ]
  },
  {
   "cell_type": "code",
   "execution_count": null,
   "metadata": {},
   "outputs": [],
   "source": [
    "from scipy.optimize import fsolve"
   ]
  },
  {
   "cell_type": "code",
   "execution_count": null,
   "metadata": {},
   "outputs": [],
   "source": [
    "finalTime = fsolve(lambda t, x: analyticalConcentration(t, x) - cB, x0=1e5, args=(OutputDist))[0]\n",
    "finalTime"
   ]
  },
  {
   "cell_type": "markdown",
   "metadata": {},
   "source": [
    "## FiPy solution"
   ]
  },
  {
   "cell_type": "code",
   "execution_count": null,
   "metadata": {},
   "outputs": [],
   "source": [
    "import fipy as fp\n",
    "from IPython.display import display, clear_output"
   ]
  },
  {
   "cell_type": "code",
   "execution_count": null,
   "metadata": {},
   "outputs": [],
   "source": [
    "gridThickM = 1.0e-2 # grid size (mum)\n",
    "nx = int(ThickM/gridThickM) # number of grid points perpendicular to surface\n",
    "dt = 100.0         # Time step (s)"
   ]
  },
  {
   "cell_type": "code",
   "execution_count": null,
   "metadata": {},
   "outputs": [],
   "source": [
    "mesh = fp.Grid1D(dx=gridThickM, nx=nx)\n",
    "\n",
    "C = fp.CellVariable(mesh=mesh, name=\"$C$\", value=0.0, hasOld=True)\n",
    "Canalytical = fp.CellVariable(mesh=mesh, name=\"$C_{analytical}$\")\n",
    "\n",
    "x, = mesh.cellCenters\n",
    "Canalytical.setValue(analyticalConcentration(t=finalTime, x=x))\n",
    "\n",
    "viewer = fp.MatplotlibViewer(vars=(C, Canalytical), datamin=1e-9, datamax=cP)\n",
    "viewer.plot()\n",
    "\n",
    "C.constrain(cP, where=mesh.facesLeft)\n",
    "\n",
    "## CORE OF THE CODE IS THE NEXT EQUATION\n",
    "eq1 = fp.TransientTerm() == fp.DiffusionTerm(DP)"
   ]
  },
  {
   "cell_type": "code",
   "execution_count": null,
   "metadata": {},
   "outputs": [],
   "source": [
    "results = []\n",
    "t = 0\n",
    "while t <= finalTime:\n",
    "    t=t+dt\n",
    "    C.updateOld()\n",
    "    eq1.solve(C, dt=dt)\n",
    "    if t % 1800 == 0:\n",
    "        results.append([t, C([[OutputDist]],order=1)[0]])\n",
    "        # In a plain Python script, we would write\n",
    "        #   viewer.plot()\n",
    "        # but that doesn't work in a Jupyter notebook\n",
    "        clear_output(wait=True)\n",
    "        display(viewer)"
   ]
  },
  {
   "cell_type": "code",
   "execution_count": null,
   "metadata": {},
   "outputs": [],
   "source": [
    "results = fp.numerix.array(results)\n",
    "fig = plt.figure()\n",
    "ax = fig.add_subplot(111)\n",
    "ax.plot(results[..., 0], results[..., 1])\n",
    "ax.set_xlabel(\"$t / s$\")\n",
    "ax.set_ylabel(r\"$C / \\mu m^3$\")"
   ]
  },
  {
   "cell_type": "markdown",
   "metadata": {},
   "source": [
    "### (b)"
   ]
  },
  {
   "cell_type": "markdown",
   "metadata": {},
   "source": [
    "What time step is needed for the numerical solution to agree with the analytical solution.  For this part of the problem set, use the 1D diffusion simulation script provided above.  Try time steps of (2, 20, 200, and 2000) s.  For a time of 10 hours and a distance of 1 μm, what value of time step gives agreement with the analytical solution to within one percent?"
   ]
  },
  {
   "cell_type": "code",
   "execution_count": null,
   "metadata": {},
   "outputs": [],
   "source": []
  },
  {
   "cell_type": "markdown",
   "metadata": {},
   "source": [
    "### (c)"
   ]
  },
  {
   "cell_type": "markdown",
   "metadata": {},
   "source": [
    "The error function solution given above assumes an infinitely thick domain.  Since your sample has finite thickness, this solution will not be accurate for your finite-sized sample beyond some time.  To appreciate the effect, modify the code so that your sample is 1.02 micrometer thick.  Compute the concentration at a depth of 1.02 micrometers after 10 hours (using the converged time step from part (b)) and compare with the analytical solution."
   ]
  },
  {
   "cell_type": "code",
   "execution_count": null,
   "metadata": {},
   "outputs": [],
   "source": []
  },
  {
   "cell_type": "markdown",
   "metadata": {},
   "source": [
    "### (d)\n",
    "\n",
    "What do you do if you want to reduce the time required for annealing?  What “knob” would you control in your processing equipment?"
   ]
  },
  {
   "cell_type": "code",
   "execution_count": null,
   "metadata": {},
   "outputs": [],
   "source": []
  }
 ],
 "metadata": {
  "kernelspec": {
   "display_name": "Python 2",
   "language": "python",
   "name": "python2"
  },
  "language_info": {
   "codemirror_mode": {
    "name": "ipython",
    "version": 2
   },
   "file_extension": ".py",
   "mimetype": "text/x-python",
   "name": "python",
   "nbconvert_exporter": "python",
   "pygments_lexer": "ipython2",
   "version": "2.7.15"
  }
 },
 "nbformat": 4,
 "nbformat_minor": 2
}
