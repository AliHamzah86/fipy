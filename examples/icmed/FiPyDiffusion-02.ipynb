{
 "cells": [
  {
   "cell_type": "markdown",
   "metadata": {},
   "source": [
    "# ICMEd Computational Kinetics Module"
   ]
  },
  {
   "cell_type": "code",
   "execution_count": null,
   "metadata": {},
   "outputs": [],
   "source": [
    "%matplotlib notebook\n",
    "from matplotlib import pyplot as plt"
   ]
  },
  {
   "cell_type": "markdown",
   "metadata": {},
   "source": [
    "## Problem 2"
   ]
  },
  {
   "cell_type": "markdown",
   "metadata": {},
   "source": [
    "A $7~\\mathrm{\\mu m}$ thick B-doped (p-type) Si wafer is annealed at $950~\\mathrm{{}^\\circ C}$ while in equilibrium with a gas containing P vapor (donor).  The concentration of B in the wafer is $2\\times 10^{17} / \\mathrm{cm^3}$.  P diffusivity in this system at this condition is $D\\approx 10^{-14}~\\mathrm{cm^2/s}$.  Assume that the concentration of P at the surface in this case is $10^{21}/\\mathrm{cm^3}$.  To fabricate a device with a junction at approximately $1~\\mathrm{\\mu m}$ from the surface, one would like to match the P and B concentrations at a depth of $1~\\mathrm{\\mu m}$.  "
   ]
  },
  {
   "cell_type": "markdown",
   "metadata": {},
   "source": [
    "NOTE: \n",
    " - Distances are in micrometers\n",
    " - Diffusion coefficient DP is in $\\mathrm{\\mu m}^2/s$\n",
    " - Times are in seconds"
   ]
  },
  {
   "cell_type": "code",
   "execution_count": null,
   "metadata": {},
   "outputs": [],
   "source": [
    "DP = 1.0e-6 # Diffusion coefficient (mum^2 / s)\n",
    "cP = 1.0e9  # Surface concentration of phosphorus (mum^-3)\n",
    "cB = 2.0e5  # Bulk concentration of boron (mum^-3)\n",
    "\n",
    "OutputDist = 1.0    # Distance at which we will output concentration (mum)\n",
    "ThickM  = 7.0       # thickness of wafer (mum)"
   ]
  },
  {
   "cell_type": "markdown",
   "metadata": {},
   "source": [
    "Part of the Si surface is covered by a mask in the manner shown below.\n",
    "![](img/schematic2D.png)"
   ]
  },
  {
   "cell_type": "code",
   "execution_count": null,
   "metadata": {},
   "outputs": [],
   "source": [
    "LengthM = 19.0      # Length of device\n",
    "mask = 5.0          # width of mask opening"
   ]
  },
  {
   "cell_type": "markdown",
   "metadata": {},
   "source": [
    "## (a)\n",
    "How would you set up the domain of the simulation?  What boundary conditions would you impose and where?"
   ]
  },
  {
   "cell_type": "code",
   "execution_count": null,
   "metadata": {},
   "outputs": [],
   "source": [
    "import fipy as fp\n",
    "from IPython.display import display, clear_output"
   ]
  },
  {
   "cell_type": "code",
   "execution_count": null,
   "metadata": {},
   "outputs": [],
   "source": [
    "gridThickM = 1.0e-1 # grid size (mum)\n",
    "nx = int(LengthM/gridThickM) # number of grid points parallel to surface\n",
    "ny = int(ThickM/gridThickM) # number of grid points perpendicular to surface"
   ]
  },
  {
   "cell_type": "code",
   "execution_count": null,
   "metadata": {},
   "outputs": [],
   "source": [
    "mesh = fp.Grid2D(dx=gridThickM, nx=nx, dy=gridThickM, ny=ny) + [[-LengthM/2.], [-ThickM]]\n",
    "\n",
    "C = fp.CellVariable(mesh=mesh, name=\"$C$\", value=0.0, hasOld=True)\n",
    "\n",
    "viewer = fp.MatplotlibViewer(vars=C, datamin=0.0, datamax=cB)\n",
    "viewer.plot()\n",
    "\n",
    "X, Y = mesh.faceCenters\n",
    "C.constrain(cP, where=mesh.facesTop & (-mask/2. <= X) & (X < mask/2.))\n",
    "\n",
    "## CORE OF THE CODE IS THE NEXT EQUATION\n",
    "eq1 = fp.TransientTerm() == fp.DiffusionTerm(DP)"
   ]
  },
  {
   "cell_type": "markdown",
   "metadata": {},
   "source": [
    "## (b)\n",
    "\n",
    "Simulate diffusion doping for the above situation and plot the concentration profile near the surface using the script provided for 2D simulations. Qualitatively compare your result to the one obtained in part 1 (b).  Please explain the similarities and differences and why."
   ]
  },
  {
   "cell_type": "code",
   "execution_count": null,
   "metadata": {},
   "outputs": [],
   "source": [
    "dt = 100.0         # Time step (s)\n",
    "finalTime = 36150. # From problem 1 (s)"
   ]
  },
  {
   "cell_type": "code",
   "execution_count": null,
   "metadata": {},
   "outputs": [],
   "source": [
    "results = []\n",
    "t = 0\n",
    "while t <= finalTime:\n",
    "    t=t+dt\n",
    "    C.updateOld()\n",
    "    eq1.solve(C, dt=dt)\n",
    "    if t % 1800 == 0:\n",
    "        results.append([t, C([[0.], [-OutputDist]],order=1)[0]])\n",
    "        # In a plain Python script, we would write\n",
    "        #   viewer.plot()\n",
    "        # but that doesn't work in a Jupyter notebook\n",
    "        clear_output(wait=True)\n",
    "        display(viewer)"
   ]
  },
  {
   "cell_type": "code",
   "execution_count": null,
   "metadata": {},
   "outputs": [],
   "source": [
    "results = fp.numerix.array(results)\n",
    "fig = plt.figure()\n",
    "plt.plot(results[..., 0], results[..., 1])\n",
    "plt.xlabel(\"$t / s$\")\n",
    "plt.ylabel(r\"$C / \\mu m^3$\")"
   ]
  },
  {
   "cell_type": "code",
   "execution_count": null,
   "metadata": {},
   "outputs": [],
   "source": []
  }
 ],
 "metadata": {
  "kernelspec": {
   "display_name": "Python 2",
   "language": "python",
   "name": "python2"
  },
  "language_info": {
   "codemirror_mode": {
    "name": "ipython",
    "version": 2
   },
   "file_extension": ".py",
   "mimetype": "text/x-python",
   "name": "python",
   "nbconvert_exporter": "python",
   "pygments_lexer": "ipython2",
   "version": "2.7.15"
  }
 },
 "nbformat": 4,
 "nbformat_minor": 2
}
